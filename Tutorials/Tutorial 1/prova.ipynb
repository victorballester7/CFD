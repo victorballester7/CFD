{
 "cells": [
  {
   "cell_type": "code",
   "execution_count": 1,
   "metadata": {},
   "outputs": [
    {
     "data": {
      "text/plain": [
       "<contextlib.ExitStack at 0x7fcbb8fd5ad0>"
      ]
     },
     "execution_count": 1,
     "metadata": {},
     "output_type": "execute_result"
    }
   ],
   "source": [
    "from sys import exit\n",
    "import numpy as np\n",
    "import scipy.sparse as sp\n",
    "import scipy.sparse.linalg as lg\n",
    "import matplotlib.pyplot as plt\n",
    "plt.ion()"
   ]
  },
  {
   "cell_type": "code",
   "execution_count": 3,
   "metadata": {},
   "outputs": [],
   "source": [
    "aspect_ratio = float(2.)\n",
    "LY = float(1.)\n",
    "LX = LY / aspect_ratio\n",
    "\n",
    "# GRID RESOLUTION\n",
    "\n",
    "# Taille des tableaux (points fantomes inclus)\n",
    "NX = int(50)\n",
    "NY = int(100)\n",
    "\n",
    "# Elements differentiels\n",
    "dx = LX / (NX - 1)\n",
    "dy = LY / (NY - 1)\n",
    "\n",
    "dx_2 = 1. / (dx * dx)\n",
    "dy_2 = 1. / (dy * dy)"
   ]
  },
  {
   "cell_type": "code",
   "execution_count": 10,
   "metadata": {},
   "outputs": [],
   "source": [
    "NXi = NX - 2\n",
    "NYi = NY - 2\n",
    "\n",
    "# AXE X\n",
    "# Diagonal terms\n",
    "dataNX = [np.ones(NXi), -2 * np.ones(NXi), np.ones(NXi)]\n",
    "\n",
    "# AXE Y\n",
    "# Diagonal terms\n",
    "dataNY = [np.ones(NYi), -2 * np.ones(NYi), np.ones(NYi)]\n",
    "\n",
    "# Their positions\n",
    "offsets = np.array([-1, 4, 1])\n",
    "DXX = sp.dia_matrix((dataNX, offsets), shape=(NXi, NXi)) * dx_2\n",
    "DYY = sp.dia_matrix((dataNY, offsets), shape=(NYi, NYi)) * dy_2\n",
    "# print(DXX.todense())\n",
    "# print(DYY.todense())\n",
    "\n"
   ]
  },
  {
   "cell_type": "code",
   "execution_count": 11,
   "metadata": {},
   "outputs": [
    {
     "name": "stdout",
     "output_type": "stream",
     "text": [
      "  (1, 0)\t9604.000000000002\n",
      "  (2, 1)\t9604.000000000002\n",
      "  (3, 2)\t9604.000000000002\n",
      "  (4, 3)\t9604.000000000002\n",
      "  (5, 4)\t9604.000000000002\n",
      "  (6, 5)\t9604.000000000002\n",
      "  (7, 6)\t9604.000000000002\n",
      "  (8, 7)\t9604.000000000002\n",
      "  (9, 8)\t9604.000000000002\n",
      "  (10, 9)\t9604.000000000002\n",
      "  (11, 10)\t9604.000000000002\n",
      "  (12, 11)\t9604.000000000002\n",
      "  (13, 12)\t9604.000000000002\n",
      "  (14, 13)\t9604.000000000002\n",
      "  (15, 14)\t9604.000000000002\n",
      "  (16, 15)\t9604.000000000002\n",
      "  (17, 16)\t9604.000000000002\n",
      "  (18, 17)\t9604.000000000002\n",
      "  (19, 18)\t9604.000000000002\n",
      "  (20, 19)\t9604.000000000002\n",
      "  (21, 20)\t9604.000000000002\n",
      "  (22, 21)\t9604.000000000002\n",
      "  (23, 22)\t9604.000000000002\n",
      "  (24, 23)\t9604.000000000002\n",
      "  (25, 24)\t9604.000000000002\n",
      "  :\t:\n",
      "  (22, 23)\t9604.000000000002\n",
      "  (23, 24)\t9604.000000000002\n",
      "  (24, 25)\t9604.000000000002\n",
      "  (25, 26)\t9604.000000000002\n",
      "  (26, 27)\t9604.000000000002\n",
      "  (27, 28)\t9604.000000000002\n",
      "  (28, 29)\t9604.000000000002\n",
      "  (29, 30)\t9604.000000000002\n",
      "  (30, 31)\t9604.000000000002\n",
      "  (31, 32)\t9604.000000000002\n",
      "  (32, 33)\t9604.000000000002\n",
      "  (33, 34)\t9604.000000000002\n",
      "  (34, 35)\t9604.000000000002\n",
      "  (35, 36)\t9604.000000000002\n",
      "  (36, 37)\t9604.000000000002\n",
      "  (37, 38)\t9604.000000000002\n",
      "  (38, 39)\t9604.000000000002\n",
      "  (39, 40)\t9604.000000000002\n",
      "  (40, 41)\t9604.000000000002\n",
      "  (41, 42)\t9604.000000000002\n",
      "  (42, 43)\t9604.000000000002\n",
      "  (43, 44)\t9604.000000000002\n",
      "  (44, 45)\t9604.000000000002\n",
      "  (45, 46)\t9604.000000000002\n",
      "  (46, 47)\t9604.000000000002\n"
     ]
    }
   ],
   "source": [
    "print(DXX)"
   ]
  },
  {
   "cell_type": "code",
   "execution_count": null,
   "metadata": {},
   "outputs": [],
   "source": [
    "# 2D Laplace operator\n",
    "# kronecker product id \\times DXX + DYY \\times id\n",
    "LAP = sp.kron(sp.eye(NYi, NYi), DXX) + sp.kron(DYY, sp.eye(NXi, NXi))"
   ]
  }
 ],
 "metadata": {
  "kernelspec": {
   "display_name": "Python 3",
   "language": "python",
   "name": "python3"
  },
  "language_info": {
   "codemirror_mode": {
    "name": "ipython",
    "version": 3
   },
   "file_extension": ".py",
   "mimetype": "text/x-python",
   "name": "python",
   "nbconvert_exporter": "python",
   "pygments_lexer": "ipython3",
   "version": "3.11.6"
  }
 },
 "nbformat": 4,
 "nbformat_minor": 2
}
